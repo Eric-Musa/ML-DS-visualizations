{
 "cells": [
  {
   "cell_type": "markdown",
   "source": [
    "# All taken from the <a href=\"https://pandas.pydata.org/pandas-docs/stable/user_guide/visualization.html\">`Pandas Chart Visualizations Documentation`</a>\r\n"
   ],
   "metadata": {}
  },
  {
   "cell_type": "code",
   "execution_count": null,
   "source": [
    "import matplotlib.pyplot as plt\r\n",
    "\r\n",
    "plt.close(\"all\")\r\n",
    "\r\n",
    "import pandas as pd\r\n",
    "import numpy as np"
   ],
   "outputs": [],
   "metadata": {}
  },
  {
   "cell_type": "markdown",
   "source": [
    "# Line Plots"
   ],
   "metadata": {}
  },
  {
   "cell_type": "code",
   "execution_count": null,
   "source": [
    "ts = pd.Series(np.random.randn(1000),\r\n",
    "               index=pd.date_range(\"1/1/2000\", periods=1000))\r\n",
    "\r\n",
    "ts = ts.cumsum()\r\n",
    "\r\n",
    "ts.plot()\r\n"
   ],
   "outputs": [],
   "metadata": {}
  },
  {
   "cell_type": "code",
   "execution_count": null,
   "source": [
    "df = pd.DataFrame(np.random.randn(1000, 4),\r\n",
    "                  index=ts.index, columns=list(\"ABCD\"))\r\n",
    "\r\n",
    "df = df.cumsum()\r\n",
    "\r\n",
    "plt.figure()\r\n",
    "\r\n",
    "df.plot()\r\n"
   ],
   "outputs": [],
   "metadata": {}
  },
  {
   "cell_type": "code",
   "execution_count": null,
   "source": [
    "df3 = pd.DataFrame(np.random.randn(1000, 2), columns=[\"B\", \"C\"]).cumsum()\r\n",
    "\r\n",
    "df3[\"A\"] = pd.Series(list(range(len(df))))\r\n",
    "\r\n",
    "df3.plot(x=\"A\", y=[\"B\", \"C\"])\r\n"
   ],
   "outputs": [],
   "metadata": {}
  },
  {
   "cell_type": "markdown",
   "source": [
    "# Bar Charts"
   ],
   "metadata": {}
  },
  {
   "cell_type": "code",
   "execution_count": null,
   "source": [
    "df2 = pd.DataFrame(np.random.rand(10, 4), columns=[\"a\", \"b\", \"c\", \"d\"])\r\n",
    "\r\n",
    "df2.plot.bar()\r\n"
   ],
   "outputs": [],
   "metadata": {}
  },
  {
   "cell_type": "code",
   "execution_count": null,
   "source": [
    "df2.plot.bar(stacked=True)\r\n"
   ],
   "outputs": [],
   "metadata": {}
  },
  {
   "cell_type": "code",
   "execution_count": null,
   "source": [
    "df2.plot.barh(stacked=True)\r\n"
   ],
   "outputs": [],
   "metadata": {}
  },
  {
   "cell_type": "markdown",
   "source": [
    "# Histograms\r\n"
   ],
   "metadata": {}
  },
  {
   "cell_type": "code",
   "execution_count": null,
   "source": [
    "df4 = pd.DataFrame(\r\n",
    "    {\r\n",
    "        \"a\": np.random.randn(1000) + 1,\r\n",
    "        \"b\": np.random.randn(1000),\r\n",
    "        \"c\": np.random.randn(1000) - 1,\r\n",
    "    },\r\n",
    "    columns=[\"a\", \"b\", \"c\"],\r\n",
    ")\r\n",
    "\r\n",
    "\r\n",
    "plt.figure()\r\n",
    "\r\n",
    "df4.plot.hist(alpha=0.5)\r\n"
   ],
   "outputs": [],
   "metadata": {}
  },
  {
   "cell_type": "code",
   "execution_count": null,
   "source": [
    "df4.plot.hist(bins=20, stacked=True)\r\n"
   ],
   "outputs": [],
   "metadata": {}
  },
  {
   "cell_type": "code",
   "execution_count": null,
   "source": [
    "df4.plot.hist(alpha=0.5, bins=25, stacked=True)\r\n"
   ],
   "outputs": [],
   "metadata": {}
  },
  {
   "cell_type": "code",
   "execution_count": null,
   "source": [
    "df4[\"a\"].plot.hist(orientation=\"horizontal\", cumulative=True)\r\n"
   ],
   "outputs": [],
   "metadata": {}
  },
  {
   "cell_type": "code",
   "execution_count": null,
   "source": [
    "df[\"A\"].diff().hist(bins=50)\r\n"
   ],
   "outputs": [],
   "metadata": {}
  },
  {
   "cell_type": "code",
   "execution_count": null,
   "source": [
    "df.diff().hist(color=\"r\", alpha=0.5, bins=50)\r\n"
   ],
   "outputs": [],
   "metadata": {}
  },
  {
   "cell_type": "code",
   "execution_count": null,
   "source": [
    "data = pd.Series(np.random.randn(1000))\r\n",
    "\r\n",
    "data.hist(by=np.random.randint(0, 4, 1000), figsize=(6, 4))\r\n"
   ],
   "outputs": [],
   "metadata": {}
  },
  {
   "cell_type": "markdown",
   "source": [
    "# Boxplots"
   ],
   "metadata": {}
  },
  {
   "cell_type": "code",
   "execution_count": null,
   "source": [
    "df = pd.DataFrame(np.random.rand(10, 5), columns=[\"A\", \"B\", \"C\", \"D\", \"E\"])\r\n",
    "\r\n",
    "df.plot.box()\r\n"
   ],
   "outputs": [],
   "metadata": {}
  },
  {
   "cell_type": "code",
   "execution_count": null,
   "source": [
    "color = {\r\n",
    "    \"boxes\": \"DarkGreen\",\r\n",
    "    \"whiskers\": \"DarkOrange\",\r\n",
    "    \"medians\": \"DarkBlue\",\r\n",
    "    \"caps\": \"Gray\",\r\n",
    "}\r\n",
    "\r\n",
    "\r\n",
    "df.plot.box(color=color, sym=\"r+\")\r\n"
   ],
   "outputs": [],
   "metadata": {}
  },
  {
   "cell_type": "code",
   "execution_count": null,
   "source": [
    "df.plot.box(vert=False, positions=[1, 4, 5, 6, 8])\r\n"
   ],
   "outputs": [],
   "metadata": {}
  },
  {
   "cell_type": "code",
   "execution_count": null,
   "source": [
    "df = pd.DataFrame(np.random.rand(10, 5))\r\n",
    "\r\n",
    "plt.figure()\r\n",
    "\r\n",
    "bp = df.boxplot()\r\n"
   ],
   "outputs": [],
   "metadata": {}
  },
  {
   "cell_type": "code",
   "execution_count": null,
   "source": [
    "df = pd.DataFrame(np.random.rand(10, 2), columns=[\"Col1\", \"Col2\"])\r\n",
    "\r\n",
    "df[\"X\"] = pd.Series([\"A\", \"A\", \"A\", \"A\", \"A\", \"B\", \"B\", \"B\", \"B\", \"B\"])\r\n",
    "\r\n",
    "plt.figure()\r\n",
    "\r\n",
    "bp = df.boxplot(by=\"X\")\r\n"
   ],
   "outputs": [],
   "metadata": {}
  },
  {
   "cell_type": "code",
   "execution_count": null,
   "source": [
    "df = pd.DataFrame(np.random.rand(10, 3), columns=[\"Col1\", \"Col2\", \"Col3\"])\r\n",
    "\r\n",
    "df[\"X\"] = pd.Series([\"A\", \"A\", \"A\", \"A\", \"A\", \"B\", \"B\", \"B\", \"B\", \"B\"])\r\n",
    "\r\n",
    "df[\"Y\"] = pd.Series([\"A\", \"B\", \"A\", \"B\", \"A\", \"B\", \"A\", \"B\", \"A\", \"B\"])\r\n",
    "\r\n",
    "plt.figure()\r\n",
    "\r\n",
    "bp = df.boxplot(column=[\"Col1\", \"Col2\", ], by=[\"X\", \"Y\"])\r\n"
   ],
   "outputs": [],
   "metadata": {}
  },
  {
   "cell_type": "code",
   "execution_count": null,
   "source": [
    "np.random.seed(1234)\r\n",
    "\r\n",
    "df_box = pd.DataFrame(np.random.randn(50, 2))\r\n",
    "\r\n",
    "df_box[\"g\"] = np.random.choice([\"A\", \"B\"], size=50)\r\n",
    "\r\n",
    "df_box.loc[df_box[\"g\"] == \"B\", 1] += 3\r\n",
    "\r\n",
    "bp = df_box.boxplot(by=\"g\")\r\n"
   ],
   "outputs": [],
   "metadata": {}
  },
  {
   "cell_type": "code",
   "execution_count": null,
   "source": [
    "bp = df_box.groupby(\"g\").boxplot()\r\n"
   ],
   "outputs": [],
   "metadata": {}
  },
  {
   "cell_type": "code",
   "execution_count": null,
   "source": [
    "print(df_box)"
   ],
   "outputs": [],
   "metadata": {}
  },
  {
   "cell_type": "markdown",
   "source": [
    "# Area Plots"
   ],
   "metadata": {}
  },
  {
   "cell_type": "code",
   "execution_count": null,
   "source": [
    "df = pd.DataFrame(np.random.rand(10, 4), columns=[\"a\", \"b\", \"c\", \"d\"])\r\n",
    "\r\n",
    "df.plot.area()\r\n"
   ],
   "outputs": [],
   "metadata": {}
  },
  {
   "cell_type": "code",
   "execution_count": null,
   "source": [
    "df.plot.area(stacked=False)\r\n"
   ],
   "outputs": [],
   "metadata": {}
  },
  {
   "cell_type": "markdown",
   "source": [
    "# Scatter Plots"
   ],
   "metadata": {}
  },
  {
   "cell_type": "code",
   "execution_count": null,
   "source": [
    "df = pd.DataFrame(np.random.rand(50, 4), columns=[\"a\", \"b\", \"c\", \"d\"])\r\n",
    "\r\n",
    "df[\"species\"] = pd.Categorical(\r\n",
    "    [\"setosa\"] * 20 + [\"versicolor\"] * 20 + [\"virginica\"] * 10\r\n",
    ")\r\n",
    "\r\n",
    "\r\n",
    "df.plot.scatter(x=\"a\", y=\"b\")\r\n"
   ],
   "outputs": [],
   "metadata": {}
  },
  {
   "cell_type": "code",
   "execution_count": null,
   "source": [
    "ax = df.plot.scatter(x=\"a\", y=\"b\", color=\"DarkBlue\", label=\"Group 1\")\r\n",
    "\r\n",
    "df.plot.scatter(x=\"c\", y=\"d\", color=\"DarkGreen\", label=\"Group 2\", ax=ax)\r\n"
   ],
   "outputs": [],
   "metadata": {}
  },
  {
   "cell_type": "code",
   "execution_count": null,
   "source": [
    "df.plot.scatter(x=\"a\", y=\"b\", c=\"c\", s=50)\r\n"
   ],
   "outputs": [],
   "metadata": {}
  },
  {
   "cell_type": "code",
   "execution_count": null,
   "source": [
    "df.plot.scatter(x=\"a\", y=\"b\", c=\"species\", cmap=\"viridis\", s=50)\r\n"
   ],
   "outputs": [],
   "metadata": {}
  },
  {
   "cell_type": "code",
   "execution_count": null,
   "source": [
    "df.plot.scatter(x=\"a\", y=\"b\", s=df[\"c\"] * 200)\r\n"
   ],
   "outputs": [],
   "metadata": {}
  },
  {
   "cell_type": "markdown",
   "source": [
    "# Hexagonal Bin Plot"
   ],
   "metadata": {}
  },
  {
   "cell_type": "code",
   "execution_count": null,
   "source": [
    "df = pd.DataFrame(np.random.randn(1000, 2), columns=[\"a\", \"b\"])\r\n",
    "\r\n",
    "df[\"b\"] = df[\"b\"] + np.arange(1000)\r\n",
    "\r\n",
    "df.plot.hexbin(x=\"a\", y=\"b\", gridsize=25)\r\n"
   ],
   "outputs": [],
   "metadata": {}
  },
  {
   "cell_type": "code",
   "execution_count": null,
   "source": [
    "df = pd.DataFrame(np.random.randn(1000, 2), columns=[\"a\", \"b\"])\r\n",
    "\r\n",
    "df[\"b\"] = df[\"b\"] + np.arange(1000)\r\n",
    "\r\n",
    "df[\"z\"] = np.random.uniform(0, 3, 1000)\r\n",
    "\r\n",
    "ax = df.plot.hexbin(x=\"a\", y=\"b\", C=\"z\", reduce_C_function=np.median, gridsize=25)\r\n"
   ],
   "outputs": [],
   "metadata": {}
  },
  {
   "cell_type": "markdown",
   "source": [
    "# Pie Chart"
   ],
   "metadata": {}
  },
  {
   "cell_type": "code",
   "execution_count": null,
   "source": [
    "series = pd.Series(3 * np.random.rand(4),\r\n",
    "                   index=[\"a\", \"b\", \"c\", \"d\"], name=\"series\")\r\n",
    "\r\n",
    "series.plot.pie(figsize=(6, 6))\r\n"
   ],
   "outputs": [],
   "metadata": {}
  },
  {
   "cell_type": "code",
   "execution_count": null,
   "source": [
    "df = pd.DataFrame(\r\n",
    "    3 * np.random.rand(4, 2), index=[\"a\", \"b\", \"c\", \"d\"], columns=[\"x\", \"y\"]\r\n",
    ")\r\n",
    "\r\n",
    "\r\n",
    "df.plot.pie(subplots=True, figsize=(8, 4))\r\n"
   ],
   "outputs": [],
   "metadata": {}
  },
  {
   "cell_type": "code",
   "execution_count": null,
   "source": [
    "# Warning: Most pandas plots use the label and color arguments(note the lack of “s” on those). To be consistent with matplotlib.pyplot.pie() you must use labels and colors.\r\n",
    "series.plot.pie(\r\n",
    "    labels=[\"AA\", \"BB\", \"CC\", \"DD\"],\r\n",
    "    colors=[\"r\", \"g\", \"b\", \"c\"],\r\n",
    "    autopct=\"%.2f\",\r\n",
    "    fontsize=20,\r\n",
    "    figsize=(6, 6),\r\n",
    ")\r\n"
   ],
   "outputs": [],
   "metadata": {}
  },
  {
   "cell_type": "code",
   "execution_count": null,
   "source": [
    "series = pd.Series([0.1] * 4, index=[\"a\", \"b\", \"c\", \"d\"], name=\"series2\")\r\n",
    "\r\n",
    "series.plot.pie(figsize=(6, 6), normalize=False)\r\n"
   ],
   "outputs": [],
   "metadata": {}
  },
  {
   "cell_type": "markdown",
   "source": [
    "# Plotting with missing data\r\n",
    "pandas tries to be pragmatic about plotting DataFrames or Series that contain missing data. Missing values are dropped, left out, or filled depending on the plot type.\r\n",
    "\r\n",
    "**Plot Type** | **NaN Handling**\r\n",
    "\r\n",
    "Line | Leave gaps at NaNs\r\n",
    "\r\n",
    "Line (stacked) | Fill 0’s\r\n",
    "\r\n",
    "Bar | Fill 0’s\r\n",
    "\r\n",
    "Scatter | Drop NaNs\r\n",
    "\r\n",
    "Histogram | Drop NaNs (column-wise)\r\n",
    "\r\n",
    "Box | Drop NaNs (column-wise)\r\n",
    "\r\n",
    "Area | Fill 0’s\r\n",
    "\r\n",
    "KDE | Drop NaNs (column-wise)\r\n",
    "\r\n",
    "Hexbin | Drop NaNs\r\n",
    "\r\n",
    "Pie | Fill 0’s\r\n",
    "\r\n",
    "If any of these defaults are not what you want, or if you want to be explicit about how missing values are handled, consider using fillna() or dropna() before plotting."
   ],
   "metadata": {}
  }
 ],
 "metadata": {
  "orig_nbformat": 4,
  "language_info": {
   "name": "python",
   "version": "3.8.11",
   "mimetype": "text/x-python",
   "codemirror_mode": {
    "name": "ipython",
    "version": 3
   },
   "pygments_lexer": "ipython3",
   "nbconvert_exporter": "python",
   "file_extension": ".py"
  },
  "kernelspec": {
   "name": "python3",
   "display_name": "Python 3.8.11 64-bit ('ase-viz': conda)"
  },
  "interpreter": {
   "hash": "db24e184beeae8636a943c8905ed200c6dc74a56ebf2dcc495f9ae9e7bc68aa6"
  }
 },
 "nbformat": 4,
 "nbformat_minor": 2
}